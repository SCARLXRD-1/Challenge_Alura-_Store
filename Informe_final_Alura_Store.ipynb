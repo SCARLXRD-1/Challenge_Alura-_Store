{
  "nbformat": 4,
  "nbformat_minor": 0,
  "metadata": {
    "colab": {
      "provenance": [],
      "authorship_tag": "ABX9TyOGljZpTtSTe+jAay2EwlYO",
      "include_colab_link": true
    },
    "kernelspec": {
      "name": "python3",
      "display_name": "Python 3"
    },
    "language_info": {
      "name": "python"
    }
  },
  "cells": [
    {
      "cell_type": "markdown",
      "metadata": {
        "id": "view-in-github",
        "colab_type": "text"
      },
      "source": [
        "<a href=\"https://colab.research.google.com/github/SCARLXRD-1/Challenge_Alura-_Store/blob/main/Informe_final_Alura_Store.ipynb\" target=\"_parent\"><img src=\"https://colab.research.google.com/assets/colab-badge.svg\" alt=\"Open In Colab\"/></a>"
      ]
    },
    {
      "cell_type": "markdown",
      "source": [
        "**Informe**\n",
        "\n",
        "Tras analizar los ingresos, ventas por categoría, calificaciones, productos más y menos vendidos y costos de envío, observe que Tienda 1 genera el mayor volumen de ventas pero presenta calificaciones ligeramente inferiores, mientras que Tienda 3 combina una calificación de cliente sobresaliente con costos de envío más bajos. Con base en un enfoque integral y apoyado en gráficas para cada métrica, recomendamos al Sr.Juan mantener las tiendas con mejor equilibrio entre ingresos y satisfacción (particularmente Tienda 3) y considerar vender la sucursal menos eficiente en términos de facturación y percepción del cliente.\n",
        "\n",
        "\n",
        "\n",
        "\n",
        "\n",
        "\n",
        "\n",
        "\n",
        "\n",
        "\n"
      ],
      "metadata": {
        "id": "OCQqei_sGgmn"
      }
    },
    {
      "cell_type": "markdown",
      "source": [
        "**Introducción**\n",
        "El objetivo de este informe es presentar de manera clara los hallazgos del análisis de las cuatro tiendas de Alura Store, y brindar una recomendación fundamentada sobre cuál sucursal debería vender el Sr.Juan. Para ello, se calcularon:\n",
        "\n",
        "\n",
        "*   Ingresos totales por tienda.\n",
        "*   Ventas por categoría.\n",
        "*   Calificación promedio de clientes.\n",
        "*   Productos más y menos vendidos\n",
        "*   Costo de envío promedio.\n",
        "\n",
        "\n",
        "\n",
        "\n",
        "\n",
        "\n",
        "\n",
        "Además, se elaboraron gráficas de barras, pastel y línea para facilitar la visualización de tendencias y comparaciones"
      ],
      "metadata": {
        "id": "C7MpLKbQQUyp"
      }
    },
    {
      "cell_type": "markdown",
      "source": [
        "\n",
        "**1. Ingreso total por tienda**\n",
        "El volumen de ventas se midió sumando la columna Precio para cada tienda:\n",
        "\n",
        "Tienda 1: 1,150,880,400\n",
        "\n",
        "Tienda 2: 1,116,343,500\n",
        "\n",
        "Tienda 3: 1,098,019,600\n",
        "\n",
        "Tienda 4: 1,038,375,700\n",
        "Analizar los ingresos totales es crucial para evaluar la salud financiera de cada sucursal y su capacidad de generar flujo de caja, especialmente en retail donde el margen bruto y la rotación de inventario determinan la rentabilidad\n",
        "\n"
      ],
      "metadata": {
        "id": "GevkgNcRQWXi"
      }
    },
    {
      "cell_type": "markdown",
      "source": [
        "**2. Ventas por categoría**\n",
        "Se agrupó cada tienda por Categoría del Producto y se contó la cantidad de unidades vendidas.\n",
        "\n",
        "\n",
        "El análisis de categorías permite entender la demanda del mercado y orientar estrategias de surtido y promoción, ya que una correcta gestión puede maximizar el crecimiento y la rentabilidad de cada línea de producto"
      ],
      "metadata": {
        "id": "DHomU2c0QnLI"
      }
    },
    {
      "cell_type": "markdown",
      "source": [
        "**3. Calificación promedio de la tienda**\n",
        "\n",
        "Se calculó el promedio de la columna Calificación para medir la satisfacción de los clientes:\n",
        "\n",
        "Tienda 1: 3.98\n",
        "\n",
        "Tienda 2: 4.04\n",
        "\n",
        "Tienda 3: 4.05\n",
        "\n",
        "Tienda 4: 4.00\n",
        "La satisfacción del cliente es un indicador clave de éxito a largo plazo, ya que impacta directamente en la fidelización y la reputación de la marca\n"
      ],
      "metadata": {
        "id": "uKW9lU3MQrlc"
      }
    },
    {
      "cell_type": "markdown",
      "source": [
        "**4. Productos más y menos vendidos**\n",
        "\n",
        "Para cada tienda, se identificó el producto con mayor y menor frecuencia de venta:\n",
        "\n",
        "\n",
        "Tienda\tMás vendido\tCantidad\tMenos vendido\tCantidad\n",
        "Tienda 1\tMicroondas\t60\tAuriculares con micrófono\t33\n",
        "Tienda 2\tIniciando en programación\t65\tJuego de mesa\t32\n",
        "Tienda 3\tKit de bancas\t57\tBloques de construcción\t35\n",
        "Tienda 4\tCama box\t62\tGuitarra eléctrica\t33\n",
        "\n",
        "El análisis de rendimiento de productos ayuda a optimizar el portafolio, enfocándose en los artículos de mayor rotación y replanteando o discontinuando los de baja demanda\n",
        "\n"
      ],
      "metadata": {
        "id": "Mg8UbtTkQtuj"
      }
    },
    {
      "cell_type": "markdown",
      "source": [
        "\n",
        "**5. Costo de envío promedio por tienda**\n",
        "\n",
        "Se calculó el promedio de la columna Costo de envío:\n",
        "\n",
        "Tienda 1: 26.018.61\n",
        "\n",
        "Tienda 2: 25,216.24\n",
        "\n",
        "Tienda 3: 24 805.68\n",
        "\n",
        "Tienda 4: 23,459.46\n",
        "\n",
        "\n",
        "\n",
        "\n"
      ],
      "metadata": {
        "id": "VBM2J4_MQ1Wi"
      }
    },
    {
      "cell_type": "markdown",
      "source": [
        "**Conclusión y recomendación**\n",
        "\n",
        "Al integrar todos los factores:\n",
        "\n",
        "Tienda 1: lidera en ingresos pero tiene la calificación más baja y un alto costo de envío.\n",
        "\n",
        "Tienda 2: buen equilibrio, con rendimiento sólido en ventas y satisfactoria calificación.\n",
        "\n",
        "Tienda 3: destaca por la mejor calificación, bajo costo de envío y ventas diversificadas, aunque no lidera ingresos.\n",
        "\n",
        "Tienda 4: menores ingresos y calificación intermedia.\n",
        "\n",
        "Dado que el éxito de un negocio combina volumen de ventas y satisfacción del cliente, Tienda 3 representa el mejor balance de estas variables. Por tanto, se recomienda vender la Tienda 4, que es la menos eficiente tanto en facturación como en satisfacción, y reinvertir los recursos en las sucursales de mejor desempeño, especialmente Tienda 3. Esta decisión optimizará las operaciones y fortalecerá la competitividad a largo plazo.\n",
        "\n",
        "\n"
      ],
      "metadata": {
        "id": "XiacjmADQ5R6"
      }
    },
    {
      "cell_type": "markdown",
      "source": [
        "**Nota:**\n",
        "\n",
        "Se generaron diversas gráficas (barras, pastel y línea) dentro del análisis para facilitar la interpretación visual de cada métrica y apoyar la toma de decisiones."
      ],
      "metadata": {
        "id": "IAbn3z8_Q6V6"
      }
    }
  ]
}