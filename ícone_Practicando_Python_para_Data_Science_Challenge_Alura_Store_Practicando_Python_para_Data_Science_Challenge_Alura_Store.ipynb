{
  "nbformat": 4,
  "nbformat_minor": 0,
  "metadata": {
    "colab": {
      "provenance": [],
      "authorship_tag": "ABX9TyMco+pyFQKkO/V+6uGiRhqR",
      "include_colab_link": true
    },
    "kernelspec": {
      "name": "python3",
      "display_name": "Python 3"
    },
    "language_info": {
      "name": "python"
    }
  },
  "cells": [
    {
      "cell_type": "markdown",
      "metadata": {
        "id": "view-in-github",
        "colab_type": "text"
      },
      "source": [
        "<a href=\"https://colab.research.google.com/github/SCARLXRD-1/Challenge_Alura-_Store/blob/main/%C3%ADcone_Practicando_Python_para_Data_Science_Challenge_Alura_Store_Practicando_Python_para_Data_Science_Challenge_Alura_Store.ipynb\" target=\"_parent\"><img src=\"https://colab.research.google.com/assets/colab-badge.svg\" alt=\"Open In Colab\"/></a>"
      ]
    },
    {
      "cell_type": "code",
      "execution_count": null,
      "metadata": {
        "id": "iWNeZmy5i5vU"
      },
      "outputs": [],
      "source": []
    }
  ]
}