{
  "nbformat": 4,
  "nbformat_minor": 0,
  "metadata": {
    "colab": {
      "provenance": [],
      "authorship_tag": "ABX9TyNsZYkBqDL9OD65eJzY0J9q",
      "include_colab_link": true
    },
    "kernelspec": {
      "name": "python3",
      "display_name": "Python 3"
    },
    "language_info": {
      "name": "python"
    }
  },
  "cells": [
    {
      "cell_type": "markdown",
      "metadata": {
        "id": "view-in-github",
        "colab_type": "text"
      },
      "source": [
        "<a href=\"https://colab.research.google.com/github/SCARLXRD-1/Challenge_Alura-_Store/blob/main/%C3%ADcone_Practicando_Python_para_Data_Science_Challenge_Alura_Store_Practicando_Python_para_Data_Science_Challenge_Alura_Store.ipynb\" target=\"_parent\"><img src=\"https://colab.research.google.com/assets/colab-badge.svg\" alt=\"Open In Colab\"/></a>"
      ]
    },
    {
      "cell_type": "code",
      "execution_count": 2,
      "metadata": {
        "id": "iWNeZmy5i5vU",
        "outputId": "be5f082c-5cdf-4a86-a5e5-0b92c481f578",
        "colab": {
          "base_uri": "https://localhost:8080/"
        }
      },
      "outputs": [
        {
          "output_type": "stream",
          "name": "stdout",
          "text": [
            "Jhonatan\n",
            "Jiménez \n"
          ]
        }
      ],
      "source": [
        "print('Jhonatan')\n",
        "print('Jiménez ')"
      ]
    }
  ]
}